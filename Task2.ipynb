{
 "cells": [
  {
   "cell_type": "code",
   "execution_count": 1,
   "id": "26e5c412",
   "metadata": {},
   "outputs": [
    {
     "name": "stdout",
     "output_type": "stream",
     "text": [
      "Input value a: 10\n",
      "Input value b: 2\n",
      "a:  2\n",
      "b:  10\n"
     ]
    }
   ],
   "source": [
    "a = input(\"Input value a: \")            #swap there is 2 ways\n",
    "b = input(\"Input value b: \")            #1st by david\n",
    "a, b = b, a\n",
    "print(\"a: \",a)\n",
    "print(\"b: \",b)"
   ]
  },
  {
   "cell_type": "code",
   "execution_count": 2,
   "id": "00ef1952",
   "metadata": {},
   "outputs": [
    {
     "name": "stdout",
     "output_type": "stream",
     "text": [
      "Input value a: 10\n",
      "Input value b: 2\n",
      "a:  2\n",
      "b:  10\n"
     ]
    }
   ],
   "source": [
    "a = input(\"Input value a: \")           #2nd by arya\n",
    "b = input(\"Input value b: \")\n",
    "c = a\n",
    "a = b\n",
    "b = c\n",
    "print(\"a: \",a)\n",
    "print(\"b: \",b)"
   ]
  },
  {
   "cell_type": "code",
   "execution_count": null,
   "id": "4af4fc2f",
   "metadata": {},
   "outputs": [],
   "source": []
  }
 ],
 "metadata": {
  "kernelspec": {
   "display_name": "Python 3 (ipykernel)",
   "language": "python",
   "name": "python3"
  },
  "language_info": {
   "codemirror_mode": {
    "name": "ipython",
    "version": 3
   },
   "file_extension": ".py",
   "mimetype": "text/x-python",
   "name": "python",
   "nbconvert_exporter": "python",
   "pygments_lexer": "ipython3",
   "version": "3.9.7"
  }
 },
 "nbformat": 4,
 "nbformat_minor": 5
}
