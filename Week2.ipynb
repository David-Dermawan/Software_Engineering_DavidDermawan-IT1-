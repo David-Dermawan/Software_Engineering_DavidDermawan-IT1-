{
 "cells": [
  {
   "cell_type": "code",
   "execution_count": 1,
   "id": "977ea42d",
   "metadata": {},
   "outputs": [
    {
     "name": "stdout",
     "output_type": "stream",
     "text": [
      "The second student is Ran\n"
     ]
    }
   ],
   "source": [
    "student = [\"David\",\"Ran\",\"Kevin\",\"Arya\"]\n",
    "print(\"The second student is \" + student[1])"
   ]
  },
  {
   "cell_type": "code",
   "execution_count": null,
   "id": "37f728cb",
   "metadata": {},
   "outputs": [],
   "source": []
  }
 ],
 "metadata": {
  "kernelspec": {
   "display_name": "Python 3 (ipykernel)",
   "language": "python",
   "name": "python3"
  },
  "language_info": {
   "codemirror_mode": {
    "name": "ipython",
    "version": 3
   },
   "file_extension": ".py",
   "mimetype": "text/x-python",
   "name": "python",
   "nbconvert_exporter": "python",
   "pygments_lexer": "ipython3",
   "version": "3.9.7"
  }
 },
 "nbformat": 4,
 "nbformat_minor": 5
}
